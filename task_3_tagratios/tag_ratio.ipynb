{
 "cells": [
  {
   "cell_type": "code",
   "execution_count": 137,
   "metadata": {
    "collapsed": true
   },
   "outputs": [],
   "source": [
    "# Use following procedure\n",
    "# Remove empty lines and script tags\n",
    "# Initialize the TTRArray\n",
    "# For each line in document\n",
    "#   X = non tag ASCII characters\n",
    "#   Y = # of tags in the line\n",
    "#   TTRArray[current line] = X if no tags, else TTRArray[current line] = X / Y\n",
    "# # "
   ]
  },
  {
   "cell_type": "code",
   "execution_count": 138,
   "metadata": {
    "collapsed": true
   },
   "outputs": [],
   "source": [
    "import lxml\n",
    "import os\n",
    "from lxml.html.clean import Cleaner\n",
    "\n",
    "cleaner = Cleaner()\n",
    "cleaner.javascript = True # This is True because we want to activate the javascript filter\n",
    "cleaner.style = True      # This is True because we want to activate the styles & stylesheet filter\n",
    "import pandas as pd\n",
    "import numpy as np\n",
    "import matplotlib.pyplot as plt\n",
    "%matplotlib inline"
   ]
  },
  {
   "cell_type": "code",
   "execution_count": 139,
   "metadata": {
    "collapsed": false
   },
   "outputs": [],
   "source": [
    "def remove_htmltags(text_string):\n",
    "    import re\n",
    "    notag = re.sub(\"<.*?>\", \" \", text_string) #via http://stackoverflow.com/questions/3351485/how-to-remove-all-html-tags-from-downloaded-page\n",
    "    return(notag)"
   ]
  },
  {
   "cell_type": "code",
   "execution_count": 140,
   "metadata": {
    "collapsed": false
   },
   "outputs": [],
   "source": [
    "def html_open(filename):\n",
    "    with open(filename) as f:\n",
    "        mylist = f.read().splitlines() \n",
    "    return(mylist)\n"
   ]
  },
  {
   "cell_type": "code",
   "execution_count": 141,
   "metadata": {
    "collapsed": true
   },
   "outputs": [],
   "source": [
    "def tag_ratio(line):\n",
    "    starting_length = len(line)\n",
    "    chars = len(remove_htmltags(line))\n",
    "    if chars-starting_length==0:\n",
    "        return 1\n",
    "    else:\n",
    "        return( chars/(starting_length-chars) )"
   ]
  },
  {
   "cell_type": "code",
   "execution_count": 142,
   "metadata": {
    "collapsed": false
   },
   "outputs": [],
   "source": [
    "from lxml.html.clean import Cleaner\n",
    "\n",
    "def clean_word_text(text):\n",
    "    # The only thing I need Cleaner for is to clear out the contents of\n",
    "    # <style>...</style> tags\n",
    "    cleaner = Cleaner(style=True)\n",
    "    return cleaner.clean_html(text)"
   ]
  },
  {
   "cell_type": "code",
   "execution_count": 143,
   "metadata": {
    "collapsed": false
   },
   "outputs": [],
   "source": [
    "def tag_ratio_distribution(input_html_file):\n",
    "    return(pd.Series([tag_ratio(line) for line in html_open(input_html_file)]))"
   ]
  },
  {
   "cell_type": "code",
   "execution_count": 144,
   "metadata": {
    "collapsed": false
   },
   "outputs": [],
   "source": [
    "def tag_ratio_with_line_numbers(input_html_file, filename):\n",
    "    tag_ratios = TR_ratios_per_line = tag_ratio_distribution(input_html_file)\n",
    "    total_num_lines = len(TR_ratios_per_line)\n",
    "#   print(total_num_lines)\n",
    "    line_numbers = pd.Series(range(0, total_num_lines))\n",
    "    filename = pd.Series([str(filename)[0:5]] * total_num_lines)\n",
    "    DF = pd.concat([filename, line_numbers, tag_ratios], axis=1)\n",
    "    return(DF)"
   ]
  },
  {
   "cell_type": "code",
   "execution_count": 145,
   "metadata": {
    "collapsed": false
   },
   "outputs": [],
   "source": [
    "def save_to_tsv(dataframe, filename='data.tsv'):\n",
    "    dataframe.to_csv(filename, sep='\\t', index=False)"
   ]
  },
  {
   "cell_type": "code",
   "execution_count": 146,
   "metadata": {
    "collapsed": false
   },
   "outputs": [],
   "source": [
    "nyt_tag_ratios = tag_ratio_distribution('nyt.html')"
   ]
  },
  {
   "cell_type": "code",
   "execution_count": 147,
   "metadata": {
    "collapsed": false
   },
   "outputs": [
    {
     "data": {
      "text/plain": [
       "0    0.071429\n",
       "1    0.030303\n",
       "2    0.200000\n",
       "3    2.769231\n",
       "4    0.018519\n",
       "5    0.015152\n",
       "6    0.025641\n",
       "7    0.002538\n",
       "8    0.025641\n",
       "9    0.000089\n",
       "dtype: float64"
      ]
     },
     "execution_count": 147,
     "metadata": {},
     "output_type": "execute_result"
    }
   ],
   "source": [
    "nyt_tag_ratios[0:10]"
   ]
  },
  {
   "cell_type": "code",
   "execution_count": 148,
   "metadata": {
    "collapsed": false
   },
   "outputs": [],
   "source": [
    "html_files_to_tagratio = os.listdir(\"/Users/olive/polar_only_rasmuson/polar_only_rasmuson_html_tika_output\")[1:] #exclude the .DS_Store file\n"
   ]
  },
  {
   "cell_type": "code",
   "execution_count": 149,
   "metadata": {
    "collapsed": false
   },
   "outputs": [],
   "source": [
    "TR_for_fileset = [tag_ratio_with_line_numbers(\"/Users/olive/polar_only_rasmuson/polar_only_rasmuson_html_tika_output/\" + x, x) for x in html_files_to_tagratio]"
   ]
  },
  {
   "cell_type": "code",
   "execution_count": 150,
   "metadata": {
    "collapsed": false
   },
   "outputs": [
    {
     "data": {
      "text/plain": [
       "42"
      ]
     },
     "execution_count": 150,
     "metadata": {},
     "output_type": "execute_result"
    }
   ],
   "source": [
    "len(TR_for_fileset) #Number of files used"
   ]
  },
  {
   "cell_type": "code",
   "execution_count": 151,
   "metadata": {
    "collapsed": false
   },
   "outputs": [],
   "source": [
    "save_to_tsv(pd.concat(TR_for_fileset), 'data1.tsv')\n"
   ]
  },
  {
   "cell_type": "code",
   "execution_count": null,
   "metadata": {
    "collapsed": true
   },
   "outputs": [],
   "source": []
  }
 ],
 "metadata": {
  "kernelspec": {
   "display_name": "Python 3",
   "language": "python",
   "name": "python3"
  },
  "language_info": {
   "codemirror_mode": {
    "name": "ipython",
    "version": 3
   },
   "file_extension": ".py",
   "mimetype": "text/x-python",
   "name": "python",
   "nbconvert_exporter": "python",
   "pygments_lexer": "ipython3",
   "version": "3.4.3"
  }
 },
 "nbformat": 4,
 "nbformat_minor": 0
}
