{
 "cells": [
  {
   "cell_type": "code",
   "execution_count": 1,
   "metadata": {
    "collapsed": true
   },
   "outputs": [],
   "source": [
    "# Use following procedure\n",
    "# Remove empty lines and script tags\n",
    "# Initialize the TTRArray\n",
    "# For each line in document\n",
    "#   X = non tag ASCII characters\n",
    "#   Y = # of tags in the line\n",
    "#   TTRArray[current line] = X if no tags, else TTRArray[current line] = X / Y\n",
    "# # "
   ]
  },
  {
   "cell_type": "code",
   "execution_count": 2,
   "metadata": {
    "collapsed": true
   },
   "outputs": [],
   "source": [
    "import lxml\n",
    "import os\n",
    "from lxml.html.clean import Cleaner\n",
    "\n",
    "cleaner = Cleaner()\n",
    "cleaner.javascript = True # This is True because we want to activate the javascript filter\n",
    "cleaner.style = True      # This is True because we want to activate the styles & stylesheet filter\n",
    "import pandas as pd\n",
    "import numpy as np\n",
    "import matplotlib.pyplot as plt\n",
    "%matplotlib inline"
   ]
  },
  {
   "cell_type": "code",
   "execution_count": 3,
   "metadata": {
    "collapsed": false
   },
   "outputs": [],
   "source": [
    "def remove_htmltags(text_string):\n",
    "    import re\n",
    "    notag = re.sub(\"<.*?>\", \" \", text_string) #via http://stackoverflow.com/questions/3351485/how-to-remove-all-html-tags-from-downloaded-page\n",
    "    return(notag)"
   ]
  },
  {
   "cell_type": "code",
   "execution_count": 4,
   "metadata": {
    "collapsed": false
   },
   "outputs": [],
   "source": [
    "def html_open(filename):\n",
    "    with open(filename) as f:\n",
    "        mylist = f.read().splitlines() \n",
    "    return(mylist)\n"
   ]
  },
  {
   "cell_type": "code",
   "execution_count": 5,
   "metadata": {
    "collapsed": true
   },
   "outputs": [],
   "source": [
    "def tag_ratio(line):\n",
    "    starting_length = len(line)\n",
    "    chars = len(remove_htmltags(line))\n",
    "    if chars-starting_length==0:\n",
    "        return 1\n",
    "    else:\n",
    "        return( chars/(starting_length-chars) )"
   ]
  },
  {
   "cell_type": "code",
   "execution_count": 6,
   "metadata": {
    "collapsed": false
   },
   "outputs": [],
   "source": [
    "from lxml.html.clean import Cleaner\n",
    "\n",
    "def clean_word_text(text):\n",
    "    # The only thing I need Cleaner for is to clear out the contents of\n",
    "    # <style>...</style> tags\n",
    "    cleaner = Cleaner(style=True)\n",
    "    return cleaner.clean_html(text)"
   ]
  },
  {
   "cell_type": "code",
   "execution_count": 7,
   "metadata": {
    "collapsed": false
   },
   "outputs": [],
   "source": [
    "def tag_ratio_distribution(input_html_file):\n",
    "    return(pd.Series([tag_ratio(line) for line in html_open(input_html_file)]))"
   ]
  },
  {
   "cell_type": "code",
   "execution_count": 8,
   "metadata": {
    "collapsed": false
   },
   "outputs": [],
   "source": [
    "def tag_ratio_with_line_numbers(input_html_file, filename):\n",
    "    tag_ratios = TR_ratios_per_line = tag_ratio_distribution(input_html_file)\n",
    "    total_num_lines = len(TR_ratios_per_line)\n",
    "#   print(total_num_lines)\n",
    "    line_numbers = pd.Series(range(0, total_num_lines))\n",
    "    filename = pd.Series([str(filename)[0:5]] * total_num_lines)\n",
    "    DF = pd.concat([filename, line_numbers, tag_ratios], axis=1)\n",
    "    return(DF)"
   ]
  },
  {
   "cell_type": "code",
   "execution_count": 9,
   "metadata": {
    "collapsed": false
   },
   "outputs": [],
   "source": [
    "def save_to_tsv(dataframe, filename='data.tsv'):\n",
    "    dataframe.to_csv(filename, sep='\\t', index=False)"
   ]
  },
  {
   "cell_type": "code",
   "execution_count": 10,
   "metadata": {
    "collapsed": false
   },
   "outputs": [],
   "source": [
    "nyt_tag_ratios = tag_ratio_distribution('nyt.html')"
   ]
  },
  {
   "cell_type": "code",
   "execution_count": 11,
   "metadata": {
    "collapsed": false
   },
   "outputs": [
    {
     "data": {
      "text/plain": [
       "0    0.071429\n",
       "1    0.030303\n",
       "2    0.200000\n",
       "3    2.769231\n",
       "4    0.018519\n",
       "5    0.015152\n",
       "6    0.025641\n",
       "7    0.002538\n",
       "8    0.025641\n",
       "9    0.000089\n",
       "dtype: float64"
      ]
     },
     "execution_count": 11,
     "metadata": {},
     "output_type": "execute_result"
    }
   ],
   "source": [
    "nyt_tag_ratios[0:10]"
   ]
  },
  {
   "cell_type": "code",
   "execution_count": 12,
   "metadata": {
    "collapsed": false
   },
   "outputs": [],
   "source": [
    "html_files_to_tagratio = os.listdir(\"/Users/olive/polar_only_rasmuson/polar_only_rasmuson_html_tika_output\")[1:] #exclude the .DS_Store file\n"
   ]
  },
  {
   "cell_type": "code",
   "execution_count": 13,
   "metadata": {
    "collapsed": false
   },
   "outputs": [],
   "source": [
    "TR_for_fileset = [tag_ratio_with_line_numbers(\"/Users/olive/polar_only_rasmuson/polar_only_rasmuson_html_tika_output/\" + x, x) for x in html_files_to_tagratio]"
   ]
  },
  {
   "cell_type": "code",
   "execution_count": 14,
   "metadata": {
    "collapsed": false
   },
   "outputs": [
    {
     "data": {
      "text/plain": [
       "42"
      ]
     },
     "execution_count": 14,
     "metadata": {},
     "output_type": "execute_result"
    }
   ],
   "source": [
    "len(TR_for_fileset) #Number of files used"
   ]
  },
  {
   "cell_type": "code",
   "execution_count": 15,
   "metadata": {
    "collapsed": false
   },
   "outputs": [],
   "source": [
    "save_to_tsv(pd.concat(TR_for_fileset), 'data1.tsv')\n"
   ]
  },
  {
   "cell_type": "code",
   "execution_count": 18,
   "metadata": {
    "collapsed": false
   },
   "outputs": [],
   "source": [
    "sample_file1 = html_open(\"/Users/olive/polar_only_rasmuson/polar_only_rasmuson_html_tika_output/C3CC173848FB95173004F8ED6EEDBC4DD15C0FF78981A824725E9FDE933C1275\")"
   ]
  },
  {
   "cell_type": "code",
   "execution_count": 27,
   "metadata": {
    "collapsed": false
   },
   "outputs": [],
   "source": [
    "scrubbed_and_trimmed = [remove_htmltags(x) for x in sample_file1][191:240] #computed using mean in R"
   ]
  },
  {
   "cell_type": "code",
   "execution_count": 31,
   "metadata": {
    "collapsed": false
   },
   "outputs": [
    {
     "data": {
      "text/plain": [
       "['                                    ',\n",
       " '                                       Diane Kaplan, President and CEO                                    ',\n",
       " '                                ',\n",
       " '                             ',\n",
       " '                              ',\n",
       " '\\t\\t\\t\\t ',\n",
       " '\\t\\t\\t\\t\\t The fall months are filled with activity for Alaskans and it&#8217;s no less true for Rasmuson board members and staff. The following is a sampling of recent activities and grantee news. ',\n",
       " '     Delores Churchill (center) flanked by Ed and Cathy Rasmuson, Aaron Schutt and me at our annual reception during AFN.  ',\n",
       " ' Board members Ed and Cathy Rasmuson, Aaron Schutt, Anthony Mallott and staff attended the Foundation’s annual reception, Oct. 24, during the Alaska Federation of Natives Convention. The event featured special guests Delores Churchill, master basket weaver and IAA Distinguished Artist (2006), and ArtChange Inc. executive director Ellen Frankenstein. We presented a 90-second sneak peek preview of the new 30-minute documentary, “Tracing Roots: Delores Churchill and the Hat of the Long Ago Person Found” ($25,000 Tier 1, April ’13; documentary film production) by Frankenstein. The event attracted dozens of Alaska Native leaders, former IAA recipients, elected officials, and past Foundation staff. ',\n",
       " '     Natasha and Rudy von Imhof attend opening night, Anchorage Symphony Orchestra.  ',\n",
       " ' Board member Natasha and Rudy von Imhof, and External Affairs Manager Jordan Marshall attended the Sept. 27 opening night of the Anchorage Symphony Orchestra. The event marked the unveiling of the new “acoustic shell” at the Alaska Center for the Performing Arts ($450,000 Tier 2, Dec. ’12). Jordan described the aural upgrade as akin to the difference between Coach and\\xa0First Class. ',\n",
       " '     Alaska Commerce Commissioner Susan Bell (second from left), Deputy Commissioner Jon Bittner and Bill Popp, AEDC CEO. AEDC and Bittner also received IEDC honors for their work.  ',\n",
       " ' I received the Institutional Leadership Award at the International Economic Development Council (IEDC) annual conference, Oct. 21, in Fort Worth, Texas. The IEDC noted that Rasmuson Foundation has invested millions in Anchorage’s libraries, universities and social service agencies; supports quality parks and recreational opportunities for city residents; encourages working artists; and encourages innovation for cultural organizations through creative placemaking activities. The Foundation is a collaborator in Housing Anchorage, which works to ensure the city features a variety of affordable housing to attract a dynamic workforce. ',\n",
       " ' Board member Linda Leary, Vice President/COO Ian Dutton, Program Officer Chris Perez and I attended a reception Oct. 20 celebrating the launch of the  Cook Inlet Tribal Council  (CITC) “Never Alone” video game ($1 million PRI, June ’13) at the new Hard Rock Café in downtown Anchorage. “ Never Alone ” was designed to preserve and promote Alaska Native culture and values, engage Alaska Native youth to keep them interested in school, and help develop industry and academic partnerships for CITC. The game, which went on sale Nov. 18, features Nuna, her mystical fox companion, and a story passed down through multiple generations in the Alaska Native Iñupiat culture. ',\n",
       " '     Screen installation and totem raising at the Gajaa Hit building, Juneau.  ',\n",
       " ' Anthony Mallott attended the  Sealaska Heritage Institute  (SHI) and  Tlingit and Haida Regional Housing Authority  (THRHA) screen installation and totem raising, Sept. 29, at the Gajaa Hit building in downtown Juneau ($25,000 Tier 1, April ’14). The 26-ft totem poles and traditional house screen were carved to honor the Tlingit Auk Kwáan clans and members of the Eagle and Raven clans who are long-term residents of Indian Village. They replaced old totems and a screen that have been in the village for many years. The project was funded by grants from the National Endowment for the Arts (NEA), the Juneau Arts and Humanities Council, the Juneau Community Foundation and Rasmuson Foundation. Pacific Northwest master carvers Joe Young and TJ Young were the lead carvers and IAA Distinguished Artist (’09) Nathan Jackson contributed to the design. ',\n",
       " '     Leadership panel at the Alaska Women&#8217;s Summit.  ',\n",
       " ' I moderated a leadership panel Oct. 17, during the second annual Alaska Women’s Summit. The panel featured U.S. Senator Lisa Murkowski; State Senator Cathy Giessel; Anchorage Assembly Member Elvi Gray-Jackson; Kristina Woolston; and Fran Ulmer, U.S. State Department Special Advisor on Arctic Science and Policy and Chair of the U.S. Arctic Commission. ',\n",
       " '     Sitka residents gather at the newly renovated Sitka Sound Science Center.  ',\n",
       " ' I joined  Sitka Sound Science Center  Executive Director Lisa Busch and hundreds of Sitka residents who turned out Oct. 18 to get a look at the newly renovated SSSC building ($491,000 Tier 2, June ’13, facility renovation). The Sage Memorial Building was originally built in 1929 as an industrial arts facility to train students in occupations such as boat making and shoe repair. It transitioned into the Sheldon Jackson College science center through 2007. Foundation funds were used to replace all windows, repair the exterior concrete, repaint the building and replace the roof. The science center also received a surprise $10,000 discretionary gift to purchase marine-inspired artwork for the interior. The ribbon cutting ceremony marked the completion of phase one of the renovation. The building&#8217;s envelope is part of a larger, long-term facility master plan drawn up with the help of the Pre-Development Program. Funding for the project came from the M.J. Murdock Charitable Trust; Douglas Island Pink and Chum (DIPAC), the Juneau hatchery; the State of Alaska; the Macintosh Foundation; and the family of Sheldon Jackson science professor Molly Ahlgren, for whom the aquarium is named. ',\n",
       " '     Paying tribute at Jewel Jones&#8217; retirement party (from left), me, Carol Gore and Bryan Butcher.  ',\n",
       " ' Jordan and I attended the Oct. 24 retirement party for  Anchorage Community Land Trust  (ACLT) CEO Jewel Jones. ACLT is the lead agency revitalizing Mountain View. The party was attended by U.S. Sen. Mark Begich; Alaska State Sen. Johnny Ellis; State Rep. Geran Tarr; Bryan Butcher, Alaska Housing Finance Corporation CEO; Carol Gore, Cook Inlet Housing Authority CEO; and many other neighborhood and nonprofit luminaries. During the party, Carol, Bryan and I announced that the community center at Ridgeline Terrace ($350,000 Tier 2, Nov. 13) will be named after Jewel. Ridgeline Terrace is a 70-unit workforce housing complex under construction on Mountain View Drive. Kirk Rose, incoming ACLT executive director emceed the event. ',\n",
       " ' On Oct. 14, the Anchorage Museum announced its “All Alaska Juried Art Exhibition XXXV” awards; among the winners are 2014 IAA Fellowship Award winners Amy Meissner and Michael Walsh (both 2014) and Kate Boyan (2011). ',\n",
       " '  Sector news  ',\n",
       " '     Robin Dublin  ',\n",
       " ' The  Alaska Botanical Garden  Board of Directors has named Robin Dublin as its new executive director. ',\n",
       " ' Former Foundation staff interns Penny Gage and Emily Bass have been hired at The Alaska Community Foundation as program officers. The  Alaska Community Foundation  has hired AFP Alaska Chapter President Beth Rose CFRE, MPA as its Vice President of Philanthropy and External Relations. ',\n",
       " '     Beth Rose  ',\n",
       " ' The September 2014 edition of Alaska Business Monthly reported in a “Regional Corporation Review” that Alaska Native regional corporations made significant philanthropic contributions. A selection of highlights include: ',\n",
       " ' ',\n",
       " ' The Aleut Foundation awarded 217 scholarships totaling $553,250 and offered community development training programs. ',\n",
       " ' Arctic Slope Regional Corporation’s Paannnaq Initiative completed a number of projects in 2013, including construction of a new outdoor basketball court in Anaktuvuk Pass and renovation of a playground in Point Hope. ASRC also hosts Iñupiaq Days with various North Slope organizations to promote education and healthy living, and deliver messages against alcohol and drug abuse. ',\n",
       " ' Calista Corporation hired a record 19 interns for 10-week internships with Calista and its subsidiaries. ',\n",
       " ' Chugach Alaska Corporation contributed $2 million to an endowment for the Chugach Heritage Foundation. It was the corporation’s first ever endowment gift and was inspired by the 2011 Rasmuson Foundation holiday card featuring Tony Rollo’s bequest of $2 million to the Seward Community Foundation. Chugach also paid out $750,000 in scholarships and $280,000 for intern and apprenticeship programs. ',\n",
       " ' Doyon, Limited contributed $2.3 million to charities, including $1.6 million to the nonprofit Doyon Foundation. ',\n",
       " ' Koniag, Inc.’s improved financial results in 2014 have allowed it to make its largest contribution to the Koniag Education Foundation, $359,000, since 2001. ',\n",
       " ' NANA Regional Corporation provided $1.1 million to fund economic development programs in the villages, as well as additional money for energy projects. Nana contributed $1.5 million to the nonprofit Aqqaluk Trust. ',\n",
       " ' Sealaska has contributed $12 million to fund scholarships and more than $16 million toward Sealaska Heritage Institute operations since 1980. ',\n",
       " ' ',\n",
       " '  Partner news  ',\n",
       " '     Cassandra Stalzer and Kyle Hopkins  ',\n",
       " ' Communications Director Cassandra Stalzer and reporter Kyle Hopkins presented State of Intoxication at the Communications Network conference in Philadelphia in October. Interviewed after the conference, Stanford Social Innovation Review managing editor Eric Nee said, “I come from a journalism background, so one session that I found interesting was on ‘Change Journalism,’ on how some philanthropies are partnering with or funding media organizations… The Rasmuson Foundation partnered with the Anchorage Daily News to fund journalists to cover alcoholism issues in Alaska. They put no boundaries on the journalists they funded, and, interestingly, one of the first articles was skeptical of the benefits of a ballot proposition to raise taxes on alcohol. This raised a fuss about whether the funding was a good idea – but the Foundation rode it out, to its credit. I think they realized that funding a journalist is not ‘PR,’ and you have to accept that they may not cover things exactly as you’d like.” ',\n",
       " '  Staff news  ',\n",
       " ' Program Officer Aleesha Towns-Bain joined Alaska Children’s Trust advocates on Sept. 23 to wave “Step Up for Kids” signs during the morning commute. Step Up for Kids is an awareness day that brings people together to show support for investments in children and families. Participants included child advocates, politicians, parents and kids. The event helped raise awareness about the issues Alaska’s children face every day, including access to early care and learning and after-school programs, poverty, child abuse and neglect and health care. ',\n",
       " ' Staff at the Foundation are encouraged to play an active role in the community. Here is a snapshot of some of their current volunteer service: ',\n",
       " ' ',\n",
       " ' Barbara Bach, director of grant management and operations, serves as treasurer and board member of the Alaska Museum of Science and Nature, and member of Alaska Pacific University Business Department Advisory Board and Grant Managers Network. ',\n",
       " ' Jeff Baird, senior program associate, serves as board president of thread (Alaska&#8217;s Child Care Resource &amp; Referral provider) and as a member of its Finance and Board Development committees; he is also a regular blood donor. ',\n",
       " ' Ian Dutton represents Rasmuson Foundation on the Foraker Operations Board; is chair of UAA’s Montgomery Dickson Center for Japanese Studies Advisory Board; a member of Anchorage Rotary and chair of its World Service Committee; treasurer of the Anchorage Sister Cities Commission; board member of Alaska Center for Blind and Visually Impaired; volunteer gardener and builder for Habitat for Humanity; volunteer trail builder for Eagle River Nature Reserve; and volunteer responder for the International Wildlife Research Oiled Marine Wildlife Network. ',\n",
       " 'fsd']"
      ]
     },
     "execution_count": 31,
     "metadata": {},
     "output_type": "execute_result"
    }
   ],
   "source": [
    "scrubbed_and_trimmed"
   ]
  },
  {
   "cell_type": "code",
   "execution_count": null,
   "metadata": {
    "collapsed": true
   },
   "outputs": [],
   "source": []
  }
 ],
 "metadata": {
  "kernelspec": {
   "display_name": "Python 3",
   "language": "python",
   "name": "python3"
  },
  "language_info": {
   "codemirror_mode": {
    "name": "ipython",
    "version": 3
   },
   "file_extension": ".py",
   "mimetype": "text/x-python",
   "name": "python",
   "nbconvert_exporter": "python",
   "pygments_lexer": "ipython3",
   "version": "3.4.3"
  }
 },
 "nbformat": 4,
 "nbformat_minor": 0
}
