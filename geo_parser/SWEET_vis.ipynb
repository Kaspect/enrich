{
 "cells": [
  {
   "cell_type": "code",
   "execution_count": 1,
   "metadata": {
    "collapsed": false
   },
   "outputs": [],
   "source": [
    "import json\n",
    "import re\n",
    "def all_pairs(items):\n",
    "    \"\"\"Make all unique pairs (order doesn't matter)\"\"\"\n",
    "    pairs = []\n",
    "    nitems = len(items)\n",
    "    for i, wi in enumerate(items):\n",
    "        for j in range(i+1, nitems):\n",
    "            pairs.append((wi, items[j]))\n",
    "    return pairs"
   ]
  },
  {
   "cell_type": "code",
   "execution_count": 2,
   "metadata": {
    "collapsed": true
   },
   "outputs": [],
   "source": [
    "def co_occurrences(lines, words):\n",
    "    \"\"\"Return histogram of co-occurrences of words in a list of lines.\n",
    "\n",
    "    Parameters\n",
    "    ----------\n",
    "    lines : list\n",
    "      A list of strings considered as 'sentences' to search for co-occurrences.\n",
    "\n",
    "    words : list\n",
    "      A list of words from which all unordered pairs will be constructed and\n",
    "      searched for co-occurrences.\n",
    "    \"\"\"\n",
    "    wpairs = all_pairs(words)\n",
    "\n",
    "    # Now build histogram of co-occurrences\n",
    "    co_occur = {}\n",
    "    for w1, w2 in wpairs:\n",
    "        rx = re.compile('%s .*%s|%s .*%s' % (w1, w2, w2, w1))\n",
    "        co_occur[w1, w2] = sum([1 for line in lines if rx.search(line)])\n",
    "\n",
    "    return(co_occur)\n"
   ]
  },
  {
   "cell_type": "code",
   "execution_count": 3,
   "metadata": {
    "collapsed": false
   },
   "outputs": [
    {
     "data": {
      "text/plain": [
       "{('hi', 'word'): 2, ('hi', 'yo'): 1, ('yo', 'word'): 1}"
      ]
     },
     "execution_count": 3,
     "metadata": {},
     "output_type": "execute_result"
    }
   ],
   "source": [
    "co_occurrences([\"hi is a great word\",\"yo is a nice word to hi\"], [\"hi\",\"yo\", \"word\"])"
   ]
  },
  {
   "cell_type": "code",
   "execution_count": 4,
   "metadata": {
    "collapsed": false
   },
   "outputs": [],
   "source": [
    "with open('/Users/olive/Documents/GitHub/kaspect/enrich/NER_SWEET/generic_ner_sweet_parsed_out.json') as data_file:\n",
    "    data = json.load(data_file)"
   ]
  },
  {
   "cell_type": "code",
   "execution_count": 5,
   "metadata": {
    "collapsed": false
   },
   "outputs": [],
   "source": [
    "L = [x['SWEET_ONTOLOGY'] for x in data]"
   ]
  },
  {
   "cell_type": "code",
   "execution_count": 6,
   "metadata": {
    "collapsed": false
   },
   "outputs": [],
   "source": [
    "sentence_list = [\" \".join(L[x]) for x in range(len(L)) if L[x]!=None]"
   ]
  },
  {
   "cell_type": "code",
   "execution_count": 7,
   "metadata": {
    "collapsed": false
   },
   "outputs": [],
   "source": [
    "fullcorpus = \" \".join(sentence_list)"
   ]
  },
  {
   "cell_type": "code",
   "execution_count": 8,
   "metadata": {
    "collapsed": false
   },
   "outputs": [],
   "source": [
    "__author__ = 'artemr'\n",
    " \n",
    "from string import punctuation\n",
    " \n",
    "def unique_words(sentence, number):\n",
    "    return [w for w in set(sentence.translate(punctuation).lower().split()) if len(w) >= number]\n",
    "\n",
    "SWEET_corpus = unique_words(fullcorpus, 4)"
   ]
  },
  {
   "cell_type": "code",
   "execution_count": 21,
   "metadata": {
    "collapsed": true
   },
   "outputs": [],
   "source": [
    "co_occur = co_occurrences(sentence_list, [\"Center\",\n",
    "\"Data\",\n",
    "\"Flight\",\n",
    "\"Hemisphere\",\n",
    "\"Meteorology\",\n",
    "\"Navigation\",\n",
    "\"Policy\",\n",
    "\"Space\",\n",
    "\"Beach\",\n",
    "\"Center\",\n",
    "\"City\",\n",
    "\"Conservation\",\n",
    "\"County\",\n",
    "\"Fish\",\n",
    "\"Group\",\n",
    "\"Key\",\n",
    "\"Mammal\",\n",
    "\"Management\",\n",
    "\"Ocean\",\n",
    "\"Park\",\n",
    "\"Pass\",\n",
    "\"Policy\",\n",
    "\"Protection\",\n",
    "\"Research\",])"
   ]
  },
  {
   "cell_type": "code",
   "execution_count": 23,
   "metadata": {
    "collapsed": false
   },
   "outputs": [],
   "source": [
    "import operator"
   ]
  },
  {
   "cell_type": "code",
   "execution_count": 24,
   "metadata": {
    "collapsed": true
   },
   "outputs": [],
   "source": [
    "sorted_x = sorted(co_occur.items(), key=operator.itemgetter(1))"
   ]
  },
  {
   "cell_type": "code",
   "execution_count": 25,
   "metadata": {
    "collapsed": false
   },
   "outputs": [
    {
     "data": {
      "text/plain": [
       "[(('Hemisphere', 'Beach'), 0),\n",
       " (('Policy', 'Policy'), 0),\n",
       " (('Meteorology', 'Fish'), 0),\n",
       " (('Flight', 'Fish'), 0),\n",
       " (('Flight', 'Pass'), 0),\n",
       " (('Meteorology', 'Mammal'), 0),\n",
       " (('Flight', 'Mammal'), 0),\n",
       " (('Hemisphere', 'County'), 0),\n",
       " (('Center', 'Center'), 0),\n",
       " (('Hemisphere', 'Pass'), 0),\n",
       " (('Meteorology', 'Key'), 0),\n",
       " (('Hemisphere', 'Fish'), 0),\n",
       " (('Space', 'Mammal'), 0),\n",
       " (('Hemisphere', 'Mammal'), 0),\n",
       " (('Conservation', 'Pass'), 1),\n",
       " (('County', 'Mammal'), 1),\n",
       " (('Management', 'Pass'), 1),\n",
       " (('Mammal', 'Park'), 1),\n",
       " (('Flight', 'Conservation'), 1),\n",
       " (('Key', 'Mammal'), 1),\n",
       " (('Space', 'Pass'), 1),\n",
       " (('Fish', 'Pass'), 1),\n",
       " (('Fish', 'Key'), 1),\n",
       " (('Flight', 'Beach'), 1),\n",
       " (('Navigation', 'Beach'), 1),\n",
       " (('Meteorology', 'Pass'), 1),\n",
       " (('Meteorology', 'Beach'), 1),\n",
       " (('County', 'Key'), 1),\n",
       " (('City', 'Mammal'), 1),\n",
       " (('Meteorology', 'Protection'), 1),\n",
       " (('Mammal', 'Pass'), 1),\n",
       " (('Navigation', 'Pass'), 1),\n",
       " (('Hemisphere', 'City'), 1),\n",
       " (('Group', 'Mammal'), 2),\n",
       " (('Hemisphere', 'Conservation'), 2),\n",
       " (('Beach', 'Pass'), 2),\n",
       " (('Group', 'Pass'), 2),\n",
       " (('Pass', 'Protection'), 2),\n",
       " (('Key', 'Pass'), 2),\n",
       " (('Beach', 'Mammal'), 2),\n",
       " (('City', 'Pass'), 2),\n",
       " (('Meteorology', 'County'), 2),\n",
       " (('Meteorology', 'Conservation'), 2),\n",
       " (('Hemisphere', 'Protection'), 2),\n",
       " (('Flight', 'Protection'), 2),\n",
       " (('County', 'Pass'), 2),\n",
       " (('Conservation', 'Key'), 2),\n",
       " (('Navigation', 'Mammal'), 3),\n",
       " (('Hemisphere', 'Park'), 3),\n",
       " (('Mammal', 'Protection'), 3),\n",
       " (('Beach', 'Fish'), 3),\n",
       " (('Navigation', 'County'), 3),\n",
       " (('Hemisphere', 'Management'), 3),\n",
       " (('Pass', 'Research'), 3),\n",
       " (('Hemisphere', 'Key'), 3),\n",
       " (('Beach', 'Conservation'), 3),\n",
       " (('Beach', 'Protection'), 4),\n",
       " (('Meteorology', 'Park'), 4),\n",
       " (('Hemisphere', 'Group'), 4),\n",
       " (('Beach', 'Group'), 4),\n",
       " (('Park', 'Pass'), 4),\n",
       " (('Space', 'Fish'), 4),\n",
       " (('Beach', 'Key'), 4),\n",
       " (('Flight', 'County'), 5),\n",
       " (('Center', 'Pass'), 5),\n",
       " (('Fish', 'Park'), 5),\n",
       " (('Key', 'Park'), 5),\n",
       " (('Pass', 'Policy'), 5),\n",
       " (('Space', 'Beach'), 5),\n",
       " (('Policy', 'Pass'), 5),\n",
       " (('Beach', 'Management'), 5),\n",
       " (('City', 'Conservation'), 5),\n",
       " (('Navigation', 'Fish'), 5),\n",
       " (('Data', 'Pass'), 6),\n",
       " (('Flight', 'Park'), 6),\n",
       " (('Conservation', 'Park'), 6),\n",
       " (('Meteorology', 'Navigation'), 7),\n",
       " (('City', 'Key'), 7),\n",
       " (('Ocean', 'Pass'), 7),\n",
       " (('Key', 'Protection'), 7),\n",
       " (('Conservation', 'Mammal'), 7),\n",
       " (('City', 'Protection'), 8),\n",
       " (('Mammal', 'Management'), 8),\n",
       " (('Meteorology', 'City'), 8),\n",
       " (('Fish', 'Mammal'), 8),\n",
       " (('Navigation', 'City'), 8),\n",
       " (('Conservation', 'County'), 8),\n",
       " (('Beach', 'County'), 8),\n",
       " (('Beach', 'Park'), 8),\n",
       " (('Navigation', 'Conservation'), 9),\n",
       " (('Flight', 'Key'), 9),\n",
       " (('Mammal', 'Research'), 9),\n",
       " (('Beach', 'City'), 9),\n",
       " (('Fish', 'Group'), 10),\n",
       " (('Meteorology', 'Management'), 10),\n",
       " (('Navigation', 'Protection'), 10),\n",
       " (('City', 'Ocean'), 10),\n",
       " (('County', 'Protection'), 10),\n",
       " (('Group', 'Key'), 10),\n",
       " (('Mammal', 'Policy'), 10),\n",
       " (('Policy', 'Mammal'), 10),\n",
       " (('Center', 'Mammal'), 10),\n",
       " (('Hemisphere', 'Navigation'), 11),\n",
       " (('Park', 'Protection'), 11),\n",
       " (('Conservation', 'Group'), 11),\n",
       " (('Fish', 'Protection'), 11),\n",
       " (('Data', 'Mammal'), 11),\n",
       " (('Mammal', 'Ocean'), 11),\n",
       " (('Navigation', 'Key'), 11),\n",
       " (('Flight', 'City'), 11),\n",
       " (('City', 'Fish'), 11),\n",
       " (('Group', 'Protection'), 12),\n",
       " (('Key', 'Management'), 13),\n",
       " (('Key', 'Ocean'), 13),\n",
       " (('Flight', 'Hemisphere'), 13),\n",
       " (('Meteorology', 'Group'), 14),\n",
       " (('Space', 'Conservation'), 14),\n",
       " (('County', 'Fish'), 14),\n",
       " (('Center', 'Beach'), 14),\n",
       " (('Beach', 'Center'), 14),\n",
       " (('Navigation', 'Park'), 14),\n",
       " (('Space', 'County'), 15),\n",
       " (('Beach', 'Ocean'), 15),\n",
       " (('Flight', 'Meteorology'), 15),\n",
       " (('Beach', 'Research'), 16),\n",
       " (('Hemisphere', 'Space'), 16),\n",
       " (('City', 'Group'), 17),\n",
       " (('Policy', 'Beach'), 17),\n",
       " (('Beach', 'Policy'), 17),\n",
       " (('County', 'Park'), 17),\n",
       " (('County', 'Ocean'), 17),\n",
       " (('Conservation', 'Protection'), 17),\n",
       " (('Hemisphere', 'Meteorology'), 18),\n",
       " (('Space', 'Park'), 18),\n",
       " (('Space', 'Key'), 20),\n",
       " (('Ocean', 'Park'), 20),\n",
       " (('County', 'Group'), 20),\n",
       " (('Flight', 'Group'), 21),\n",
       " (('City', 'Management'), 21),\n",
       " (('Space', 'Protection'), 21),\n",
       " (('Space', 'City'), 22),\n",
       " (('City', 'Park'), 22),\n",
       " (('Data', 'Beach'), 22),\n",
       " (('Navigation', 'Ocean'), 22),\n",
       " (('Group', 'Park'), 23),\n",
       " (('Management', 'Park'), 23),\n",
       " (('Flight', 'Management'), 25),\n",
       " (('Meteorology', 'Space'), 25),\n",
       " (('County', 'Management'), 25),\n",
       " (('Center', 'Key'), 27),\n",
       " (('City', 'County'), 28),\n",
       " (('Fish', 'Ocean'), 29),\n",
       " (('Center', 'Fish'), 29),\n",
       " (('Navigation', 'Group'), 29),\n",
       " (('Data', 'Key'), 30),\n",
       " (('Policy', 'County'), 30),\n",
       " (('County', 'Policy'), 30),\n",
       " (('Fish', 'Management'), 30),\n",
       " (('Key', 'Policy'), 31),\n",
       " (('Policy', 'Key'), 31),\n",
       " (('Ocean', 'Protection'), 32),\n",
       " (('Conservation', 'Fish'), 32),\n",
       " (('Fish', 'Policy'), 33),\n",
       " (('Hemisphere', 'Ocean'), 33),\n",
       " (('Key', 'Research'), 33),\n",
       " (('Policy', 'Fish'), 33),\n",
       " (('City', 'Policy'), 36),\n",
       " (('Policy', 'City'), 36),\n",
       " (('Navigation', 'Management'), 36),\n",
       " (('Fish', 'Research'), 37),\n",
       " (('County', 'Research'), 37),\n",
       " (('Data', 'County'), 40),\n",
       " (('City', 'Research'), 40),\n",
       " (('Hemisphere', 'Research'), 41),\n",
       " (('Data', 'City'), 41),\n",
       " (('Data', 'Fish'), 42),\n",
       " (('Conservation', 'Ocean'), 43),\n",
       " (('Hemisphere', 'Policy'), 45),\n",
       " (('Data', 'Conservation'), 46),\n",
       " (('Management', 'Protection'), 46),\n",
       " (('Center', 'Conservation'), 48),\n",
       " (('Policy', 'Conservation'), 49),\n",
       " (('Conservation', 'Policy'), 49),\n",
       " (('Center', 'County'), 50),\n",
       " (('Center', 'Protection'), 51),\n",
       " (('Hemisphere', 'Center'), 52),\n",
       " (('Center', 'Hemisphere'), 52),\n",
       " (('Protection', 'Research'), 54),\n",
       " (('Meteorology', 'Policy'), 55),\n",
       " (('Flight', 'Ocean'), 55),\n",
       " (('Flight', 'Navigation'), 57),\n",
       " (('Data', 'Protection'), 59),\n",
       " (('Center', 'City'), 59),\n",
       " (('Data', 'Park'), 60),\n",
       " (('Policy', 'Park'), 60),\n",
       " (('Park', 'Policy'), 60),\n",
       " (('Conservation', 'Management'), 63),\n",
       " (('Data', 'Hemisphere'), 64),\n",
       " (('Policy', 'Protection'), 64),\n",
       " (('Space', 'Group'), 70),\n",
       " (('Space', 'Management'), 72),\n",
       " (('Park', 'Research'), 74),\n",
       " (('Conservation', 'Research'), 74),\n",
       " (('Group', 'Ocean'), 75),\n",
       " (('Group', 'Management'), 76),\n",
       " (('Center', 'Park'), 81),\n",
       " (('Data', 'Navigation'), 83),\n",
       " (('Space', 'Ocean'), 86),\n",
       " (('Flight', 'Research'), 87),\n",
       " (('Navigation', 'Research'), 91),\n",
       " (('Center', 'Navigation'), 94),\n",
       " (('Navigation', 'Center'), 94),\n",
       " (('Navigation', 'Space'), 95),\n",
       " (('Management', 'Ocean'), 120),\n",
       " (('Flight', 'Policy'), 132),\n",
       " (('Navigation', 'Policy'), 133),\n",
       " (('Policy', 'Group'), 137),\n",
       " (('Group', 'Policy'), 137),\n",
       " (('Data', 'Flight'), 141),\n",
       " (('Center', 'Group'), 169),\n",
       " (('Group', 'Research'), 180),\n",
       " (('Data', 'Group'), 187),\n",
       " (('Flight', 'Center'), 229),\n",
       " (('Center', 'Flight'), 229),\n",
       " (('Policy', 'Management'), 243),\n",
       " (('Management', 'Policy'), 243),\n",
       " (('Flight', 'Space'), 244),\n",
       " (('Center', 'Management'), 258),\n",
       " (('Space', 'Research'), 263),\n",
       " (('Management', 'Research'), 293),\n",
       " (('Data', 'Management'), 297),\n",
       " (('Space', 'Policy'), 305),\n",
       " (('Policy', 'Space'), 305),\n",
       " (('Data', 'Space'), 332),\n",
       " (('Meteorology', 'Ocean'), 437),\n",
       " (('Space', 'Center'), 442),\n",
       " (('Center', 'Space'), 442),\n",
       " (('Meteorology', 'Research'), 546),\n",
       " (('Meteorology', 'Center'), 550),\n",
       " (('Center', 'Meteorology'), 550),\n",
       " (('Data', 'Meteorology'), 556),\n",
       " (('Ocean', 'Policy'), 559),\n",
       " (('Policy', 'Ocean'), 559),\n",
       " (('Center', 'Ocean'), 671),\n",
       " (('Ocean', 'Research'), 693),\n",
       " (('Policy', 'Research'), 731),\n",
       " (('Center', 'Policy'), 772),\n",
       " (('Policy', 'Center'), 772),\n",
       " (('Data', 'Ocean'), 1121),\n",
       " (('Center', 'Research'), 1355),\n",
       " (('Data', 'Research'), 1366),\n",
       " (('Data', 'Center'), 1461),\n",
       " (('Center', 'Data'), 1461),\n",
       " (('Data', 'Policy'), 1622)]"
      ]
     },
     "execution_count": 25,
     "metadata": {},
     "output_type": "execute_result"
    }
   ],
   "source": [
    "sorted_x"
   ]
  },
  {
   "cell_type": "code",
   "execution_count": null,
   "metadata": {
    "collapsed": true
   },
   "outputs": [],
   "source": []
  }
 ],
 "metadata": {
  "kernelspec": {
   "display_name": "Python 3",
   "language": "python",
   "name": "python3"
  },
  "language_info": {
   "codemirror_mode": {
    "name": "ipython",
    "version": 3
   },
   "file_extension": ".py",
   "mimetype": "text/x-python",
   "name": "python",
   "nbconvert_exporter": "python",
   "pygments_lexer": "ipython3",
   "version": "3.4.3"
  }
 },
 "nbformat": 4,
 "nbformat_minor": 0
}
